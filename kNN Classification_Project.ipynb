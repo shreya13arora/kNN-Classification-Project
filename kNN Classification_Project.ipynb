{
 "cells": [
  {
   "cell_type": "markdown",
   "metadata": {
    "toc": true
   },
   "source": [
    "<h1>Table of Contents<span class=\"tocSkip\"></span></h1>\n",
    "<div class=\"toc\"><ul class=\"toc-item\"><li><ul class=\"toc-item\"><li><ul class=\"toc-item\"><li><span><a href=\"#We'll-convert-Gender-to-int-type-by-replacing-Male-as-1-and-Female-as-0\" data-toc-modified-id=\"We'll-convert-Gender-to-int-type-by-replacing-Male-as-1-and-Female-as-0-0.0.1\"><span class=\"toc-item-num\">0.0.1&nbsp;&nbsp;</span>We'll convert Gender to int type by replacing Male as 1 and Female as 0</a></span></li></ul></li></ul></li><li><span><a href=\"#What-about-LabelEncoder?-->-Only-for-Y-(label)-?\" data-toc-modified-id=\"What-about-LabelEncoder?-->-Only-for-Y-(label)-?-1\"><span class=\"toc-item-num\">1&nbsp;&nbsp;</span>What about LabelEncoder? -&gt; Only for Y (label) ?</a></span></li><li><span><a href=\"#Visualization\" data-toc-modified-id=\"Visualization-2\"><span class=\"toc-item-num\">2&nbsp;&nbsp;</span>Visualization</a></span></li></ul></div>"
   ]
  },
  {
   "cell_type": "code",
   "execution_count": 1,
   "metadata": {},
   "outputs": [],
   "source": [
    "import os\n",
    "import pandas as pd # for data analysis and manipulation\n",
    "import numpy as np # for mathematical operations\n",
    "import matplotlib.pyplot as plt # for data visualization\n",
    "import seaborn as sns # for data visualization"
   ]
  },
  {
   "cell_type": "code",
   "execution_count": 2,
   "metadata": {},
   "outputs": [],
   "source": [
    "os.chdir(r\"D:\\Datasets\")"
   ]
  },
  {
   "cell_type": "code",
   "execution_count": 3,
   "metadata": {},
   "outputs": [
    {
     "data": {
      "text/html": [
       "<div>\n",
       "<style scoped>\n",
       "    .dataframe tbody tr th:only-of-type {\n",
       "        vertical-align: middle;\n",
       "    }\n",
       "\n",
       "    .dataframe tbody tr th {\n",
       "        vertical-align: top;\n",
       "    }\n",
       "\n",
       "    .dataframe thead th {\n",
       "        text-align: right;\n",
       "    }\n",
       "</style>\n",
       "<table border=\"1\" class=\"dataframe\">\n",
       "  <thead>\n",
       "    <tr style=\"text-align: right;\">\n",
       "      <th></th>\n",
       "      <th>Gender</th>\n",
       "      <th>Age</th>\n",
       "      <th>Salary</th>\n",
       "      <th>Purchase Iphone</th>\n",
       "    </tr>\n",
       "  </thead>\n",
       "  <tbody>\n",
       "    <tr>\n",
       "      <th>0</th>\n",
       "      <td>Male</td>\n",
       "      <td>19</td>\n",
       "      <td>19000</td>\n",
       "      <td>0</td>\n",
       "    </tr>\n",
       "    <tr>\n",
       "      <th>1</th>\n",
       "      <td>Male</td>\n",
       "      <td>35</td>\n",
       "      <td>20000</td>\n",
       "      <td>0</td>\n",
       "    </tr>\n",
       "    <tr>\n",
       "      <th>2</th>\n",
       "      <td>Female</td>\n",
       "      <td>26</td>\n",
       "      <td>43000</td>\n",
       "      <td>0</td>\n",
       "    </tr>\n",
       "    <tr>\n",
       "      <th>3</th>\n",
       "      <td>Female</td>\n",
       "      <td>27</td>\n",
       "      <td>57000</td>\n",
       "      <td>0</td>\n",
       "    </tr>\n",
       "    <tr>\n",
       "      <th>4</th>\n",
       "      <td>Male</td>\n",
       "      <td>19</td>\n",
       "      <td>76000</td>\n",
       "      <td>0</td>\n",
       "    </tr>\n",
       "  </tbody>\n",
       "</table>\n",
       "</div>"
      ],
      "text/plain": [
       "   Gender  Age  Salary  Purchase Iphone\n",
       "0    Male   19   19000                0\n",
       "1    Male   35   20000                0\n",
       "2  Female   26   43000                0\n",
       "3  Female   27   57000                0\n",
       "4    Male   19   76000                0"
      ]
     },
     "execution_count": 3,
     "metadata": {},
     "output_type": "execute_result"
    }
   ],
   "source": [
    "df = pd.read_csv(\"iphone_purchase_records.csv\")\n",
    "df.head()"
   ]
  },
  {
   "cell_type": "markdown",
   "metadata": {},
   "source": [
    "Purchase iPhone= 0 => Has an iPhone\n",
    "\n",
    "Purchase iPhone= 1 => Doesn't have an iPhone"
   ]
  },
  {
   "cell_type": "code",
   "execution_count": 4,
   "metadata": {},
   "outputs": [
    {
     "data": {
      "text/plain": [
       "Gender             object\n",
       "Age                 int64\n",
       "Salary              int64\n",
       "Purchase Iphone     int64\n",
       "dtype: object"
      ]
     },
     "execution_count": 4,
     "metadata": {},
     "output_type": "execute_result"
    }
   ],
   "source": [
    "df.dtypes"
   ]
  },
  {
   "cell_type": "markdown",
   "metadata": {},
   "source": [
    "#### We'll convert Gender to int type by replacing Male as 1 and Female as 0\n",
    "\n",
    "## What about LabelEncoder? -> Only for Y (label) ?"
   ]
  },
  {
   "cell_type": "code",
   "execution_count": 5,
   "metadata": {},
   "outputs": [],
   "source": [
    "df[\"Gender\"] = df[\"Gender\"].replace([\"Male\"], value= 1)\n",
    "df[\"Gender\"] = df[\"Gender\"].replace([\"Female\"], value= 0)"
   ]
  },
  {
   "cell_type": "code",
   "execution_count": 6,
   "metadata": {},
   "outputs": [
    {
     "data": {
      "text/html": [
       "<div>\n",
       "<style scoped>\n",
       "    .dataframe tbody tr th:only-of-type {\n",
       "        vertical-align: middle;\n",
       "    }\n",
       "\n",
       "    .dataframe tbody tr th {\n",
       "        vertical-align: top;\n",
       "    }\n",
       "\n",
       "    .dataframe thead th {\n",
       "        text-align: right;\n",
       "    }\n",
       "</style>\n",
       "<table border=\"1\" class=\"dataframe\">\n",
       "  <thead>\n",
       "    <tr style=\"text-align: right;\">\n",
       "      <th></th>\n",
       "      <th>Gender</th>\n",
       "      <th>Age</th>\n",
       "      <th>Salary</th>\n",
       "      <th>Purchase Iphone</th>\n",
       "    </tr>\n",
       "  </thead>\n",
       "  <tbody>\n",
       "    <tr>\n",
       "      <th>0</th>\n",
       "      <td>1</td>\n",
       "      <td>19</td>\n",
       "      <td>19000</td>\n",
       "      <td>0</td>\n",
       "    </tr>\n",
       "    <tr>\n",
       "      <th>1</th>\n",
       "      <td>1</td>\n",
       "      <td>35</td>\n",
       "      <td>20000</td>\n",
       "      <td>0</td>\n",
       "    </tr>\n",
       "    <tr>\n",
       "      <th>2</th>\n",
       "      <td>0</td>\n",
       "      <td>26</td>\n",
       "      <td>43000</td>\n",
       "      <td>0</td>\n",
       "    </tr>\n",
       "    <tr>\n",
       "      <th>3</th>\n",
       "      <td>0</td>\n",
       "      <td>27</td>\n",
       "      <td>57000</td>\n",
       "      <td>0</td>\n",
       "    </tr>\n",
       "    <tr>\n",
       "      <th>4</th>\n",
       "      <td>1</td>\n",
       "      <td>19</td>\n",
       "      <td>76000</td>\n",
       "      <td>0</td>\n",
       "    </tr>\n",
       "    <tr>\n",
       "      <th>...</th>\n",
       "      <td>...</td>\n",
       "      <td>...</td>\n",
       "      <td>...</td>\n",
       "      <td>...</td>\n",
       "    </tr>\n",
       "    <tr>\n",
       "      <th>395</th>\n",
       "      <td>0</td>\n",
       "      <td>46</td>\n",
       "      <td>41000</td>\n",
       "      <td>1</td>\n",
       "    </tr>\n",
       "    <tr>\n",
       "      <th>396</th>\n",
       "      <td>1</td>\n",
       "      <td>51</td>\n",
       "      <td>23000</td>\n",
       "      <td>1</td>\n",
       "    </tr>\n",
       "    <tr>\n",
       "      <th>397</th>\n",
       "      <td>0</td>\n",
       "      <td>50</td>\n",
       "      <td>20000</td>\n",
       "      <td>1</td>\n",
       "    </tr>\n",
       "    <tr>\n",
       "      <th>398</th>\n",
       "      <td>1</td>\n",
       "      <td>36</td>\n",
       "      <td>33000</td>\n",
       "      <td>0</td>\n",
       "    </tr>\n",
       "    <tr>\n",
       "      <th>399</th>\n",
       "      <td>0</td>\n",
       "      <td>49</td>\n",
       "      <td>36000</td>\n",
       "      <td>1</td>\n",
       "    </tr>\n",
       "  </tbody>\n",
       "</table>\n",
       "<p>400 rows × 4 columns</p>\n",
       "</div>"
      ],
      "text/plain": [
       "     Gender  Age  Salary  Purchase Iphone\n",
       "0         1   19   19000                0\n",
       "1         1   35   20000                0\n",
       "2         0   26   43000                0\n",
       "3         0   27   57000                0\n",
       "4         1   19   76000                0\n",
       "..      ...  ...     ...              ...\n",
       "395       0   46   41000                1\n",
       "396       1   51   23000                1\n",
       "397       0   50   20000                1\n",
       "398       1   36   33000                0\n",
       "399       0   49   36000                1\n",
       "\n",
       "[400 rows x 4 columns]"
      ]
     },
     "execution_count": 6,
     "metadata": {},
     "output_type": "execute_result"
    }
   ],
   "source": [
    "df"
   ]
  },
  {
   "cell_type": "code",
   "execution_count": 7,
   "metadata": {},
   "outputs": [
    {
     "data": {
      "text/html": [
       "<div>\n",
       "<style scoped>\n",
       "    .dataframe tbody tr th:only-of-type {\n",
       "        vertical-align: middle;\n",
       "    }\n",
       "\n",
       "    .dataframe tbody tr th {\n",
       "        vertical-align: top;\n",
       "    }\n",
       "\n",
       "    .dataframe thead th {\n",
       "        text-align: right;\n",
       "    }\n",
       "</style>\n",
       "<table border=\"1\" class=\"dataframe\">\n",
       "  <thead>\n",
       "    <tr style=\"text-align: right;\">\n",
       "      <th></th>\n",
       "      <th>Gender</th>\n",
       "      <th>Age</th>\n",
       "      <th>Salary</th>\n",
       "      <th>Purchase Iphone</th>\n",
       "    </tr>\n",
       "  </thead>\n",
       "  <tbody>\n",
       "    <tr>\n",
       "      <th>count</th>\n",
       "      <td>400.000000</td>\n",
       "      <td>400.000000</td>\n",
       "      <td>400.000000</td>\n",
       "      <td>400.000000</td>\n",
       "    </tr>\n",
       "    <tr>\n",
       "      <th>mean</th>\n",
       "      <td>0.490000</td>\n",
       "      <td>37.655000</td>\n",
       "      <td>69742.500000</td>\n",
       "      <td>0.357500</td>\n",
       "    </tr>\n",
       "    <tr>\n",
       "      <th>std</th>\n",
       "      <td>0.500526</td>\n",
       "      <td>10.482877</td>\n",
       "      <td>34096.960282</td>\n",
       "      <td>0.479864</td>\n",
       "    </tr>\n",
       "    <tr>\n",
       "      <th>min</th>\n",
       "      <td>0.000000</td>\n",
       "      <td>18.000000</td>\n",
       "      <td>15000.000000</td>\n",
       "      <td>0.000000</td>\n",
       "    </tr>\n",
       "    <tr>\n",
       "      <th>25%</th>\n",
       "      <td>0.000000</td>\n",
       "      <td>29.750000</td>\n",
       "      <td>43000.000000</td>\n",
       "      <td>0.000000</td>\n",
       "    </tr>\n",
       "    <tr>\n",
       "      <th>50%</th>\n",
       "      <td>0.000000</td>\n",
       "      <td>37.000000</td>\n",
       "      <td>70000.000000</td>\n",
       "      <td>0.000000</td>\n",
       "    </tr>\n",
       "    <tr>\n",
       "      <th>75%</th>\n",
       "      <td>1.000000</td>\n",
       "      <td>46.000000</td>\n",
       "      <td>88000.000000</td>\n",
       "      <td>1.000000</td>\n",
       "    </tr>\n",
       "    <tr>\n",
       "      <th>max</th>\n",
       "      <td>1.000000</td>\n",
       "      <td>60.000000</td>\n",
       "      <td>150000.000000</td>\n",
       "      <td>1.000000</td>\n",
       "    </tr>\n",
       "  </tbody>\n",
       "</table>\n",
       "</div>"
      ],
      "text/plain": [
       "           Gender         Age         Salary  Purchase Iphone\n",
       "count  400.000000  400.000000     400.000000       400.000000\n",
       "mean     0.490000   37.655000   69742.500000         0.357500\n",
       "std      0.500526   10.482877   34096.960282         0.479864\n",
       "min      0.000000   18.000000   15000.000000         0.000000\n",
       "25%      0.000000   29.750000   43000.000000         0.000000\n",
       "50%      0.000000   37.000000   70000.000000         0.000000\n",
       "75%      1.000000   46.000000   88000.000000         1.000000\n",
       "max      1.000000   60.000000  150000.000000         1.000000"
      ]
     },
     "execution_count": 7,
     "metadata": {},
     "output_type": "execute_result"
    }
   ],
   "source": [
    "df.describe()"
   ]
  },
  {
   "cell_type": "code",
   "execution_count": 8,
   "metadata": {},
   "outputs": [
    {
     "name": "stdout",
     "output_type": "stream",
     "text": [
      "<class 'pandas.core.frame.DataFrame'>\n",
      "RangeIndex: 400 entries, 0 to 399\n",
      "Data columns (total 4 columns):\n",
      " #   Column           Non-Null Count  Dtype\n",
      "---  ------           --------------  -----\n",
      " 0   Gender           400 non-null    int64\n",
      " 1   Age              400 non-null    int64\n",
      " 2   Salary           400 non-null    int64\n",
      " 3   Purchase Iphone  400 non-null    int64\n",
      "dtypes: int64(4)\n",
      "memory usage: 12.6 KB\n"
     ]
    }
   ],
   "source": [
    "df.info()"
   ]
  },
  {
   "cell_type": "markdown",
   "metadata": {},
   "source": [
    "We don't have any Null values"
   ]
  },
  {
   "cell_type": "markdown",
   "metadata": {},
   "source": [
    "## Visualization"
   ]
  },
  {
   "cell_type": "code",
   "execution_count": 9,
   "metadata": {},
   "outputs": [
    {
     "data": {
      "text/plain": [
       "<seaborn.axisgrid.PairGrid at 0x1f84d21a850>"
      ]
     },
     "execution_count": 9,
     "metadata": {},
     "output_type": "execute_result"
    },
    {
     "data": {
      "image/png": "[encoded data removed]",
      "text/plain": [
       "<Figure size 720x720 with 20 Axes>"
      ]
     },
     "metadata": {
      "needs_background": "light"
     },
     "output_type": "display_data"
    }
   ],
   "source": [
    "sns.pairplot(df)"
   ]
  },
  {
   "cell_type": "markdown",
   "metadata": {},
   "source": [
    "But our data has all numbers now with different units i.e age is in years, salary is some currency and as kNN is a distance based algorithm, so we need to scale the data first before applying any further actions."
   ]
  },
  {
   "cell_type": "code",
   "execution_count": 10,
   "metadata": {},
   "outputs": [],
   "source": [
    "df1 = df.copy()"
   ]
  },
  {
   "cell_type": "code",
   "execution_count": 11,
   "metadata": {},
   "outputs": [
    {
     "name": "stdout",
     "output_type": "stream",
     "text": [
      "     Gender  Age  Salary\n",
      "0         1   19   19000\n",
      "1         1   35   20000\n",
      "2         0   26   43000\n",
      "3         0   27   57000\n",
      "4         1   19   76000\n",
      "..      ...  ...     ...\n",
      "395       0   46   41000\n",
      "396       1   51   23000\n",
      "397       0   50   20000\n",
      "398       1   36   33000\n",
      "399       0   49   36000\n",
      "\n",
      "[400 rows x 3 columns]\n",
      "0      0\n",
      "1      0\n",
      "2      0\n",
      "3      0\n",
      "4      0\n",
      "      ..\n",
      "395    1\n",
      "396    1\n",
      "397    1\n",
      "398    0\n",
      "399    1\n",
      "Name: Purchase Iphone, Length: 400, dtype: int64\n"
     ]
    }
   ],
   "source": [
    "#Predictors df:\n",
    "X= df1[[\"Gender\", \"Age\", \"Salary\"]]\n",
    "print(X)\n",
    "# df with label:  Purchase Iphone(Target)\n",
    "y = df1[\"Purchase Iphone\"]\n",
    "print(y)"
   ]
  },
  {
   "cell_type": "code",
   "execution_count": 13,
   "metadata": {},
   "outputs": [],
   "source": [
    "#importing train_test_split\n",
    "from sklearn.model_selection import train_test_split\n",
    "X_train, X_test, y_train, y_test = train_test_split(X, y, test_size= 0.25, stratify= y, random_state= 0)\n",
    "\n",
    "# classification problem -> prefer to use stratification\n",
    "# random_state -> like seed function -> reproduce/replicate same result\n"
   ]
  },
  {
   "cell_type": "code",
   "execution_count": 14,
   "metadata": {},
   "outputs": [],
   "source": [
    "from sklearn.preprocessing import StandardScaler\n",
    "sc_X = StandardScaler()"
   ]
  },
  {
   "cell_type": "code",
   "execution_count": 15,
   "metadata": {},
   "outputs": [],
   "source": [
    "X_train= sc_X.fit_transform(X_train)\n",
    "X_test= sc_X.fit_transform(X_test)"
   ]
  },
  {
   "cell_type": "code",
   "execution_count": 16,
   "metadata": {},
   "outputs": [
    {
     "data": {
      "text/plain": [
       "array([[-0.96720415,  0.21949759,  0.16166651],\n",
       "       [-0.96720415,  0.21949759,  0.07369804],\n",
       "       [ 1.03390789, -1.29864134, -1.36312043],\n",
       "       [ 1.03390789,  1.8325202 ,  0.13234369],\n",
       "       [-0.96720415, -0.82422293, -1.2165063 ],\n",
       "       [-0.96720415, -1.01399029,  0.77744585],\n",
       "       [-0.96720415, -0.16003715, -0.45411283],\n",
       "       [-0.96720415, -0.91910661, -0.74734108],\n",
       "       [-0.96720415,  0.40926495,  0.27895782],\n",
       "       [-0.96720415,  0.02973022,  1.24661106],\n",
       "       [ 1.03390789,  0.1246139 ,  1.89171323],\n",
       "       [-0.96720415, -0.06515346, -0.36614435],\n",
       "       [-0.96720415, -0.4446882 , -0.5420813 ],\n",
       "       [ 1.03390789, -0.16003715, -0.51275848],\n",
       "       [-0.96720415,  0.97856705, -1.01124652],\n",
       "       [ 1.03390789,  0.97856705,  0.13234369],\n",
       "       [ 1.03390789, -1.77305976, -1.48041173],\n",
       "       [ 1.03390789,  2.11717125, -0.80598674],\n",
       "       [ 1.03390789,  1.92740389,  2.18494149],\n",
       "       [-0.96720415,  1.35810179, -1.42176608],\n",
       "       [-0.96720415, -1.29864134, -1.24582912],\n",
       "       [-0.96720415, -1.48840871, -1.24582912],\n",
       "       [-0.96720415, -1.77305976, -1.42176608],\n",
       "       [-0.96720415, -0.72933925,  0.27895782],\n",
       "       [ 1.03390789, -1.20375766,  0.51354042],\n",
       "       [ 1.03390789, -0.25492083, -0.3074987 ],\n",
       "       [-0.96720415,  0.88368337,  1.27593389],\n",
       "       [ 1.03390789,  1.73763652,  1.8623904 ],\n",
       "       [-0.96720415,  1.16833442,  0.54286325],\n",
       "       [ 1.03390789, -1.10887398, -1.09921499],\n",
       "       [ 1.03390789,  1.73763652, -0.27817587],\n",
       "       [-0.96720415,  0.693916  , -1.39244325],\n",
       "       [-0.96720415, -0.25492083,  0.22031216],\n",
       "       [-0.96720415,  1.73763652,  1.01202846],\n",
       "       [ 1.03390789,  2.11717125, -0.80598674],\n",
       "       [ 1.03390789,  2.11717125,  0.39624912],\n",
       "       [ 1.03390789, -0.63445556, -0.10223892],\n",
       "       [ 1.03390789,  0.21949759,  0.24963499],\n",
       "       [ 1.03390789, -0.34980451, -0.77666391],\n",
       "       [-0.96720415,  0.1246139 ,  0.04437521],\n",
       "       [-0.96720415,  1.16833442, -0.98192369],\n",
       "       [ 1.03390789, -0.63445556,  0.13234369],\n",
       "       [ 1.03390789,  0.1246139 , -0.80598674],\n",
       "       [-0.96720415, -1.86794344, -0.04359327],\n",
       "       [-0.96720415, -0.63445556,  0.04437521],\n",
       "       [-0.96720415,  1.35810179,  0.6015089 ],\n",
       "       [-0.96720415, -0.63445556, -0.04359327],\n",
       "       [ 1.03390789, -0.82422293,  0.16166651],\n",
       "       [ 1.03390789, -1.29864134, -0.33682152],\n",
       "       [ 1.03390789, -0.53957188,  1.48119367],\n",
       "       [ 1.03390789, -1.20375766, -1.39244325],\n",
       "       [ 1.03390789, -0.53957188, -1.50973455],\n",
       "       [ 1.03390789, -0.82422293,  2.30223279],\n",
       "       [ 1.03390789, -0.25492083, -0.57140413],\n",
       "       [-0.96720415, -0.63445556, -1.59770303],\n",
       "       [-0.96720415, -1.10887398, -1.01124652],\n",
       "       [-0.96720415, -0.06515346, -1.06989217],\n",
       "       [ 1.03390789, -1.67817608,  0.4842176 ],\n",
       "       [ 1.03390789, -0.06515346, -0.42479   ],\n",
       "       [ 1.03390789, -0.16003715,  1.42254802],\n",
       "       [-0.96720415,  1.35810179,  1.30525672],\n",
       "       [-0.96720415, -0.16003715, -0.57140413],\n",
       "       [-0.96720415,  0.88368337, -0.57140413],\n",
       "       [ 1.03390789,  0.21949759, -0.65937261],\n",
       "       [ 1.03390789,  0.78879969,  0.27895782],\n",
       "       [-0.96720415, -1.10887398, -0.77666391],\n",
       "       [ 1.03390789,  0.40926495, -0.13156174],\n",
       "       [-0.96720415,  0.1246139 , -0.3074987 ],\n",
       "       [-0.96720415,  2.11717125,  1.12931976],\n",
       "       [ 1.03390789, -0.4446882 , -0.77666391],\n",
       "       [ 1.03390789,  0.31438127, -0.51275848],\n",
       "       [-0.96720415, -1.67817608,  0.36692629],\n",
       "       [ 1.03390789, -0.06515346,  0.22031216],\n",
       "       [ 1.03390789,  0.88368337, -0.77666391],\n",
       "       [ 1.03390789,  0.88368337,  1.04135128],\n",
       "       [-0.96720415, -0.25492083, -0.27817587],\n",
       "       [-0.96720415,  0.31438127, -1.15786065],\n",
       "       [-0.96720415,  2.02228757, -0.80598674],\n",
       "       [ 1.03390789,  0.21949759, -0.3074987 ],\n",
       "       [-0.96720415, -1.01399029,  1.97968171],\n",
       "       [-0.96720415,  0.97856705, -1.15786065],\n",
       "       [ 1.03390789,  0.21949759, -0.13156174],\n",
       "       [-0.96720415, -1.67817608, -0.98192369],\n",
       "       [-0.96720415,  1.54786915,  1.12931976],\n",
       "       [-0.96720415,  0.02973022, -0.57140413],\n",
       "       [-0.96720415,  0.31438127, -0.27817587],\n",
       "       [-0.96720415,  2.02228757,  0.19098934],\n",
       "       [ 1.03390789, -0.25492083, -0.33682152],\n",
       "       [ 1.03390789,  0.88368337, -1.36312043],\n",
       "       [ 1.03390789,  0.78879969, -1.36312043],\n",
       "       [-0.96720415, -0.16003715,  1.65713062],\n",
       "       [-0.96720415, -0.34980451,  0.07369804],\n",
       "       [ 1.03390789,  1.07345074, -1.2165063 ],\n",
       "       [-0.96720415,  0.31438127,  0.30828064],\n",
       "       [ 1.03390789,  0.40926495,  2.33155562],\n",
       "       [-0.96720415,  0.40926495,  0.6015089 ],\n",
       "       [-0.96720415,  0.693916  , -0.71801826],\n",
       "       [ 1.03390789, -1.58329239,  0.07369804],\n",
       "       [-0.96720415,  0.02973022, -0.13156174],\n",
       "       [ 1.03390789,  1.07345074,  0.57218607],\n",
       "       [ 1.03390789, -1.20375766, -1.06989217],\n",
       "       [ 1.03390789, -0.72933925, -0.60072696],\n",
       "       [-0.96720415,  1.92740389, -0.92327804],\n",
       "       [ 1.03390789,  2.11717125, -1.04056934],\n",
       "       [ 1.03390789, -1.77305976,  0.45489477],\n",
       "       [ 1.03390789,  1.45298547,  0.07369804],\n",
       "       [ 1.03390789,  0.21949759,  0.16166651],\n",
       "       [ 1.03390789, -0.06515346, -0.51275848],\n",
       "       [-0.96720415, -0.53957188,  0.4842176 ],\n",
       "       [ 1.03390789, -1.01399029, -0.33682152],\n",
       "       [ 1.03390789, -0.82422293,  0.30828064],\n",
       "       [ 1.03390789, -0.06515346,  0.13234369],\n",
       "       [-0.96720415, -0.63445556, -1.04056934],\n",
       "       [-0.96720415, -0.4446882 ,  2.33155562],\n",
       "       [ 1.03390789,  0.31438127, -0.71801826],\n",
       "       [-0.96720415,  0.40926495, -0.48343565],\n",
       "       [ 1.03390789, -0.16003715, -1.06989217],\n",
       "       [ 1.03390789, -0.72933925,  0.30828064],\n",
       "       [-0.96720415,  1.54786915,  1.01202846],\n",
       "       [ 1.03390789,  0.02973022,  0.04437521],\n",
       "       [ 1.03390789, -1.58329239,  0.54286325],\n",
       "       [-0.96720415, -1.29864134,  0.57218607],\n",
       "       [ 1.03390789, -0.82422293, -0.24885305],\n",
       "       [ 1.03390789, -0.82422293, -0.77666391],\n",
       "       [ 1.03390789, -1.01399029, -1.4510889 ],\n",
       "       [-0.96720415,  0.31438127,  0.04437521],\n",
       "       [ 1.03390789, -0.06515346,  0.01505238],\n",
       "       [-0.96720415, -1.86794344,  0.4842176 ],\n",
       "       [-0.96720415,  0.88368337,  1.09999694],\n",
       "       [ 1.03390789,  0.21949759, -0.36614435],\n",
       "       [-0.96720415, -0.06515346,  2.24358714],\n",
       "       [ 1.03390789, -1.10887398, -1.15786065],\n",
       "       [-0.96720415,  0.59903232,  2.03832736],\n",
       "       [-0.96720415,  0.1246139 ,  0.27895782],\n",
       "       [ 1.03390789,  1.07345074,  0.4842176 ],\n",
       "       [ 1.03390789,  0.40926495,  0.30828064],\n",
       "       [-0.96720415,  0.40926495,  1.12931976],\n",
       "       [-0.96720415,  0.02973022, -0.57140413],\n",
       "       [-0.96720415,  0.693916  ,  1.80374475],\n",
       "       [ 1.03390789,  0.40926495, -0.45411283],\n",
       "       [-0.96720415,  1.16833442, -0.74734108],\n",
       "       [-0.96720415,  1.8325202 , -1.27515195],\n",
       "       [ 1.03390789, -0.91910661,  0.57218607],\n",
       "       [-0.96720415, -1.29864134, -0.42479   ],\n",
       "       [-0.96720415, -0.16003715,  0.16166651],\n",
       "       [ 1.03390789, -1.01399029,  0.6015089 ],\n",
       "       [-0.96720415,  2.02228757, -1.18718347],\n",
       "       [-0.96720415, -0.16003715, -0.1902074 ],\n",
       "       [-0.96720415,  1.07345074, -0.98192369],\n",
       "       [-0.96720415,  1.2632181 ,  1.89171323],\n",
       "       [-0.96720415, -0.91910661,  0.51354042],\n",
       "       [-0.96720415, -1.10887398,  0.42557194],\n",
       "       [-0.96720415, -0.25492083,  0.04437521],\n",
       "       [-0.96720415, -0.25492083,  0.80676868],\n",
       "       [-0.96720415,  2.11717125, -0.68869543],\n",
       "       [ 1.03390789, -1.77305976,  0.19098934],\n",
       "       [-0.96720415, -1.10887398,  0.07369804],\n",
       "       [ 1.03390789, -0.25492083,  0.16166651],\n",
       "       [-0.96720415, -1.01399029, -0.45411283],\n",
       "       [ 1.03390789,  0.97856705,  0.6015089 ],\n",
       "       [ 1.03390789,  0.693916  , -1.39244325],\n",
       "       [-0.96720415, -1.48840871, -0.1902074 ],\n",
       "       [-0.96720415, -0.82422293,  0.39624912],\n",
       "       [-0.96720415, -0.72933925,  1.36390237],\n",
       "       [-0.96720415, -0.25492083, -1.36312043],\n",
       "       [ 1.03390789, -1.77305976, -1.30447477],\n",
       "       [ 1.03390789,  0.97856705, -0.83530956],\n",
       "       [-0.96720415,  0.88368337,  2.18494149],\n",
       "       [-0.96720415, -1.67817608,  0.36692629],\n",
       "       [ 1.03390789, -0.34980451,  1.24661106],\n",
       "       [-0.96720415,  0.97856705,  1.45187084],\n",
       "       [ 1.03390789,  0.78879969, -1.2165063 ],\n",
       "       [-0.96720415, -0.53957188,  1.39322519],\n",
       "       [ 1.03390789, -1.10887398, -1.59770303],\n",
       "       [ 1.03390789,  0.88368337, -1.4510889 ],\n",
       "       [ 1.03390789, -0.25492083,  0.07369804],\n",
       "       [-0.96720415, -1.01399029, -0.36614435],\n",
       "       [ 1.03390789, -0.72933925,  0.57218607],\n",
       "       [-0.96720415,  0.31438127,  0.07369804],\n",
       "       [ 1.03390789, -1.29864134, -1.48041173],\n",
       "       [-0.96720415,  0.97856705,  2.00900453],\n",
       "       [ 1.03390789, -0.63445556, -1.50973455],\n",
       "       [-0.96720415,  0.02973022,  1.27593389],\n",
       "       [ 1.03390789,  1.35810179,  2.36087844],\n",
       "       [-0.96720415,  1.45298547,  1.01202846],\n",
       "       [ 1.03390789,  0.31438127,  0.51354042],\n",
       "       [-0.96720415, -0.53957188,  1.92103606],\n",
       "       [ 1.03390789,  0.21949759,  1.09999694],\n",
       "       [ 1.03390789, -1.29864134, -0.42479   ],\n",
       "       [-0.96720415, -0.06515346,  1.97968171],\n",
       "       [-0.96720415,  0.97856705, -1.18718347],\n",
       "       [-0.96720415,  1.92740389, -0.65937261],\n",
       "       [-0.96720415,  0.1246139 ,  0.16166651],\n",
       "       [-0.96720415, -1.01399029,  0.42557194],\n",
       "       [-0.96720415, -1.58329239, -0.04359327],\n",
       "       [ 1.03390789,  1.2632181 , -1.36312043],\n",
       "       [-0.96720415, -0.91910661,  0.42557194],\n",
       "       [-0.96720415,  1.35810179,  2.00900453],\n",
       "       [ 1.03390789, -1.10887398, -1.56838021],\n",
       "       [ 1.03390789,  0.693916  ,  0.27895782],\n",
       "       [-0.96720415, -1.29864134, -1.09921499],\n",
       "       [-0.96720415, -1.58329239, -1.56838021],\n",
       "       [ 1.03390789, -0.82422293, -0.77666391],\n",
       "       [-0.96720415, -0.06515346,  0.04437521],\n",
       "       [ 1.03390789, -0.25492083, -0.92327804],\n",
       "       [ 1.03390789,  0.40926495,  0.10302086],\n",
       "       [-0.96720415, -1.39352503, -0.63004978],\n",
       "       [ 1.03390789, -0.4446882 , -1.12853782],\n",
       "       [ 1.03390789,  0.97856705, -1.06989217],\n",
       "       [-0.96720415, -0.06515346,  0.24963499],\n",
       "       [-0.96720415,  0.1246139 ,  1.89171323],\n",
       "       [-0.96720415, -1.67817608, -1.36312043],\n",
       "       [ 1.03390789, -0.16003715, -0.27817587],\n",
       "       [ 1.03390789, -0.25492083, -1.39244325],\n",
       "       [ 1.03390789, -0.25492083,  0.16166651],\n",
       "       [ 1.03390789, -1.86794344,  0.36692629],\n",
       "       [-0.96720415, -0.4446882 , -1.2165063 ],\n",
       "       [ 1.03390789,  0.1246139 ,  0.77744585],\n",
       "       [-0.96720415, -0.91910661, -0.95260087],\n",
       "       [-0.96720415,  1.92740389,  0.92405998],\n",
       "       [-0.96720415,  0.40926495,  0.01505238],\n",
       "       [-0.96720415,  0.78879969,  0.36692629],\n",
       "       [ 1.03390789, -0.34980451,  1.33457954],\n",
       "       [-0.96720415,  0.97856705,  1.80374475],\n",
       "       [-0.96720415, -0.91910661,  0.45489477],\n",
       "       [-0.96720415,  1.8325202 ,  1.53983932],\n",
       "       [-0.96720415,  1.92740389,  0.74812303],\n",
       "       [ 1.03390789, -0.72933925,  1.09999694],\n",
       "       [-0.96720415, -0.25492083, -1.30447477],\n",
       "       [ 1.03390789,  0.40926495, -0.45411283],\n",
       "       [-0.96720415,  0.97856705,  1.89171323],\n",
       "       [ 1.03390789, -1.20375766,  0.6015089 ],\n",
       "       [-0.96720415, -0.4446882 , -0.27817587],\n",
       "       [-0.96720415, -0.25492083,  2.27290996],\n",
       "       [ 1.03390789, -0.25492083,  0.54286325],\n",
       "       [ 1.03390789,  0.31438127,  0.27895782],\n",
       "       [ 1.03390789,  1.8325202 , -0.27817587],\n",
       "       [ 1.03390789, -1.20375766,  0.30828064],\n",
       "       [ 1.03390789, -0.72933925, -1.53905738],\n",
       "       [-0.96720415,  0.31438127, -0.5420813 ],\n",
       "       [-0.96720415,  0.50414864,  1.24661106],\n",
       "       [ 1.03390789,  1.64275284, -0.89395521],\n",
       "       [ 1.03390789,  0.78879969,  0.54286325],\n",
       "       [ 1.03390789, -0.72933925,  1.92103606],\n",
       "       [-0.96720415, -1.01399029, -1.53905738],\n",
       "       [ 1.03390789,  0.02973022, -0.24885305],\n",
       "       [ 1.03390789,  0.31438127, -0.51275848],\n",
       "       [-0.96720415, -0.34980451, -1.30447477],\n",
       "       [-0.96720415,  0.59903232, -0.89395521],\n",
       "       [-0.96720415, -0.25492083,  0.07369804],\n",
       "       [ 1.03390789, -0.16003715,  0.86541433],\n",
       "       [ 1.03390789, -1.67817608, -0.60072696],\n",
       "       [-0.96720415,  0.78879969, -1.09921499],\n",
       "       [-0.96720415, -0.4446882 ,  1.27593389],\n",
       "       [ 1.03390789,  0.78879969, -0.3074987 ],\n",
       "       [ 1.03390789,  2.02228757,  1.77442193],\n",
       "       [-0.96720415,  0.88368337, -0.60072696],\n",
       "       [-0.96720415, -0.25492083, -0.13156174],\n",
       "       [-0.96720415,  0.21949759, -0.27817587],\n",
       "       [ 1.03390789, -0.16003715,  2.18494149],\n",
       "       [ 1.03390789, -0.06515346,  0.07369804],\n",
       "       [ 1.03390789, -1.48840871, -1.50973455],\n",
       "       [-0.96720415,  0.1246139 , -0.24885305],\n",
       "       [ 1.03390789, -0.63445556, -0.33682152],\n",
       "       [-0.96720415, -1.10887398, -1.53905738],\n",
       "       [ 1.03390789,  1.54786915,  0.01505238],\n",
       "       [ 1.03390789, -0.63445556,  0.19098934],\n",
       "       [ 1.03390789,  0.88368337, -1.30447477],\n",
       "       [ 1.03390789, -0.53957188,  0.89473716],\n",
       "       [-0.96720415, -1.10887398, -0.51275848],\n",
       "       [ 1.03390789,  0.40926495, -0.13156174],\n",
       "       [-0.96720415, -0.06515346,  0.68947738],\n",
       "       [-0.96720415,  0.02973022,  0.30828064],\n",
       "       [-0.96720415,  0.78879969, -1.39244325],\n",
       "       [-0.96720415,  0.40926495,  0.30828064],\n",
       "       [ 1.03390789, -0.72933925,  0.51354042],\n",
       "       [-0.96720415, -0.82422293, -0.65937261],\n",
       "       [ 1.03390789, -0.06515346, -0.48343565],\n",
       "       [-0.96720415,  0.1246139 ,  0.10302086],\n",
       "       [ 1.03390789,  0.97856705,  2.09697301],\n",
       "       [ 1.03390789, -0.16003715,  1.6278078 ],\n",
       "       [ 1.03390789,  0.21949759, -0.36614435],\n",
       "       [ 1.03390789,  0.97856705, -1.06989217],\n",
       "       [ 1.03390789, -0.25492083, -1.4510889 ],\n",
       "       [-0.96720415, -0.4446882 , -0.83530956],\n",
       "       [-0.96720415, -1.39352503,  0.36692629],\n",
       "       [ 1.03390789, -0.25492083,  0.27895782],\n",
       "       [-0.96720415,  0.40926495,  0.16166651],\n",
       "       [-0.96720415, -0.82422293,  0.39624912],\n",
       "       [ 1.03390789, -0.91910661,  0.27895782],\n",
       "       [ 1.03390789,  0.1246139 ,  1.07067411],\n",
       "       [ 1.03390789,  0.1246139 ,  0.04437521],\n",
       "       [ 1.03390789, -1.86794344, -0.51275848],\n",
       "       [-0.96720415,  0.31438127,  0.07369804],\n",
       "       [ 1.03390789,  0.1246139 , -0.80598674],\n",
       "       [-0.96720415, -1.39352503, -1.2165063 ],\n",
       "       [-0.96720415,  1.64275284,  1.77442193],\n",
       "       [-0.96720415,  2.02228757,  0.39624912],\n",
       "       [-0.96720415,  1.64275284,  1.6278078 ],\n",
       "       [ 1.03390789,  0.02973022, -0.5420813 ]])"
      ]
     },
     "execution_count": 16,
     "metadata": {},
     "output_type": "execute_result"
    }
   ],
   "source": [
    "X_train"
   ]
  },
  {
   "cell_type": "code",
   "execution_count": 17,
   "metadata": {
    "scrolled": true
   },
   "outputs": [
    {
     "data": {
      "text/plain": [
       "array([[-1.02020406, -0.24956151, -0.39857365],\n",
       "       [ 0.98019606,  0.43283325,  0.98802602],\n",
       "       [ 0.98019606,  0.04289338, -0.28056517],\n",
       "       [-1.02020406, -0.63950138,  1.40105571],\n",
       "       [-1.02020406,  0.23786332,  2.1091066 ],\n",
       "       [ 0.98019606, -0.24956151, -0.45757789],\n",
       "       [ 0.98019606, -1.1269262 ,  0.45698785],\n",
       "       [-1.02020406,  1.21271297, -1.49015211],\n",
       "       [ 0.98019606, -0.24956151, -0.51658213],\n",
       "       [ 0.98019606, -1.4193811 , -0.22156093],\n",
       "       [ 0.98019606, -0.05459158,  2.16811084],\n",
       "       [-1.02020406, -0.63950138,  0.54549421],\n",
       "       [-1.02020406, -0.34704648, -0.81160334],\n",
       "       [ 0.98019606, -0.93195627, -1.13612666],\n",
       "       [-1.02020406,  1.01774304,  0.75200905],\n",
       "       [-1.02020406, -1.02944124, -1.16562879],\n",
       "       [ 0.98019606,  0.53031821,  1.72557903],\n",
       "       [ 0.98019606, -0.24956151, -0.92961182],\n",
       "       [-1.02020406, -0.93195627, -0.33956941],\n",
       "       [-1.02020406,  0.92025808, -0.69359486],\n",
       "       [-1.02020406,  1.11522801, -0.92961182],\n",
       "       [-1.02020406, -0.24956151, -0.78210122],\n",
       "       [ 0.98019606, -0.05459158,  0.250473  ],\n",
       "       [ 0.98019606, -1.80932097, -0.01504608],\n",
       "       [-1.02020406, -1.80932097, -1.31313939],\n",
       "       [ 0.98019606,  1.11522801,  0.1029624 ],\n",
       "       [-1.02020406, -1.02944124, -0.36907153],\n",
       "       [-1.02020406,  1.31019794,  2.22711508],\n",
       "       [ 0.98019606,  0.43283325, -0.19205881],\n",
       "       [-1.02020406, -0.44453144, -0.0445482 ],\n",
       "       [ 0.98019606, -1.22441117,  0.250473  ],\n",
       "       [ 0.98019606, -0.24956151,  1.1060345 ],\n",
       "       [-1.02020406, -0.73698634, -0.25106305],\n",
       "       [ 0.98019606,  1.11522801, -1.25413515],\n",
       "       [ 0.98019606,  0.23786332,  0.01445604],\n",
       "       [ 0.98019606,  0.23786332, -0.28056517],\n",
       "       [-1.02020406,  0.82277311,  0.75200905],\n",
       "       [-1.02020406,  1.9925927 , -1.40164575],\n",
       "       [-1.02020406,  1.60265284, -1.31313939],\n",
       "       [-1.02020406,  0.82277311, -0.87060758],\n",
       "       [ 0.98019606, -0.05459158,  0.13246452],\n",
       "       [ 0.98019606, -1.1269262 ,  0.30947725],\n",
       "       [ 0.98019606,  0.14037835,  1.51906419],\n",
       "       [-1.02020406, -1.4193811 , -0.13305456],\n",
       "       [-1.02020406, -0.54201641,  2.34512357],\n",
       "       [-1.02020406,  1.89510774, -1.10662454],\n",
       "       [-1.02020406, -0.24956151, -0.69359486],\n",
       "       [-1.02020406,  0.33534828,  0.04395816],\n",
       "       [-1.02020406, -0.24956151, -0.60508849],\n",
       "       [ 0.98019606,  1.11522801,  0.51599209],\n",
       "       [-1.02020406, -1.1269262 , -1.63766271],\n",
       "       [-1.02020406, -1.90680593, -0.78210122],\n",
       "       [ 0.98019606, -0.24956151, -1.28363727],\n",
       "       [-1.02020406, -1.1269262 ,  0.27997512],\n",
       "       [ 0.98019606, -0.73698634, -1.63766271],\n",
       "       [ 0.98019606, -0.93195627,  1.54856631],\n",
       "       [-1.02020406,  0.53031821,  1.84358752],\n",
       "       [-1.02020406,  0.82277311,  0.1029624 ],\n",
       "       [ 0.98019606, -1.1269262 ,  0.27997512],\n",
       "       [ 0.98019606,  0.23786332, -0.39857365],\n",
       "       [-1.02020406,  1.50516787, -1.07712242],\n",
       "       [-1.02020406,  0.92025808, -0.57558637],\n",
       "       [-1.02020406, -0.05459158,  0.27997512],\n",
       "       [ 0.98019606, -1.02944124,  0.51599209],\n",
       "       [ 0.98019606,  1.11522801, -0.16255668],\n",
       "       [-1.02020406,  2.09007767,  0.51599209],\n",
       "       [ 0.98019606,  0.14037835,  0.19146876],\n",
       "       [ 0.98019606,  0.04289338,  0.01445604],\n",
       "       [-1.02020406,  0.04289338, -0.45757789],\n",
       "       [ 0.98019606, -1.711836  ,  0.1029624 ],\n",
       "       [-1.02020406,  1.50516787,  2.13860872],\n",
       "       [-1.02020406,  1.11522801,  2.07960448],\n",
       "       [ 0.98019606,  0.33534828,  0.04395816],\n",
       "       [ 0.98019606,  2.09007767,  2.13860872],\n",
       "       [ 0.98019606, -1.02944124,  0.54549421],\n",
       "       [ 0.98019606, -1.51686607,  0.30947725],\n",
       "       [-1.02020406, -0.05459158, -0.25106305],\n",
       "       [ 0.98019606,  0.72528815, -1.31313939],\n",
       "       [ 0.98019606,  0.04289338, -0.33956941],\n",
       "       [-1.02020406, -0.93195627, -0.45757789],\n",
       "       [ 0.98019606,  0.72528815, -1.13612666],\n",
       "       [ 0.98019606, -1.4193811 , -1.49015211],\n",
       "       [ 0.98019606, -1.32189614,  0.39798361],\n",
       "       [ 0.98019606, -0.24956151, -0.28056517],\n",
       "       [ 0.98019606, -0.54201641, -1.54915635],\n",
       "       [-1.02020406, -0.54201641,  1.37155359],\n",
       "       [-1.02020406, -0.05459158,  0.27997512],\n",
       "       [-1.02020406,  0.92025808, -1.19513091],\n",
       "       [ 0.98019606,  0.92025808, -1.07712242],\n",
       "       [ 0.98019606,  0.82277311,  1.37155359],\n",
       "       [ 0.98019606,  2.18756263,  0.92902178],\n",
       "       [-1.02020406,  0.33534828, -0.22156093],\n",
       "       [ 0.98019606,  0.33534828, -0.33956941],\n",
       "       [ 0.98019606, -0.93195627, -0.33956941],\n",
       "       [-1.02020406, -1.51686607, -0.45757789],\n",
       "       [-1.02020406,  1.50516787,  0.33897937],\n",
       "       [ 0.98019606, -0.24956151,  0.07346028],\n",
       "       [ 0.98019606, -0.24956151,  0.60449845],\n",
       "       [-1.02020406, -1.1269262 ,  1.40105571],\n",
       "       [-1.02020406,  1.40768291, -0.95911394]])"
      ]
     },
     "execution_count": 17,
     "metadata": {},
     "output_type": "execute_result"
    }
   ],
   "source": [
    "X_test"
   ]
  },
  {
   "cell_type": "markdown",
   "metadata": {},
   "source": [
    "Let's visualize again now after scaling:"
   ]
  },
  {
   "cell_type": "code",
   "execution_count": 18,
   "metadata": {
    "scrolled": true
   },
   "outputs": [
    {
     "data": {
      "text/plain": [
       "<seaborn.axisgrid.PairGrid at 0x1f85008c520>"
      ]
     },
     "execution_count": 18,
     "metadata": {},
     "output_type": "execute_result"
    },
    {
     "data": {
      "image/png": "[encoded data removed]",
      "text/plain": [
       "<Figure size 540x540 with 12 Axes>"
      ]
     },
     "metadata": {
      "needs_background": "light"
     },
     "output_type": "display_data"
    }
   ],
   "source": [
    "sns.pairplot(X)"
   ]
  },
  {
   "cell_type": "code",
   "execution_count": 19,
   "metadata": {
    "scrolled": false
   },
   "outputs": [
    {
     "data": {
      "text/html": [
       "<div>\n",
       "<style scoped>\n",
       "    .dataframe tbody tr th:only-of-type {\n",
       "        vertical-align: middle;\n",
       "    }\n",
       "\n",
       "    .dataframe tbody tr th {\n",
       "        vertical-align: top;\n",
       "    }\n",
       "\n",
       "    .dataframe thead th {\n",
       "        text-align: right;\n",
       "    }\n",
       "</style>\n",
       "<table border=\"1\" class=\"dataframe\">\n",
       "  <thead>\n",
       "    <tr style=\"text-align: right;\">\n",
       "      <th></th>\n",
       "      <th>Gender</th>\n",
       "      <th>Age</th>\n",
       "      <th>Salary</th>\n",
       "      <th>Purchase Iphone</th>\n",
       "    </tr>\n",
       "  </thead>\n",
       "  <tbody>\n",
       "    <tr>\n",
       "      <th>Gender</th>\n",
       "      <td>1.000000</td>\n",
       "      <td>-0.073741</td>\n",
       "      <td>-0.060435</td>\n",
       "      <td>-0.042469</td>\n",
       "    </tr>\n",
       "    <tr>\n",
       "      <th>Age</th>\n",
       "      <td>-0.073741</td>\n",
       "      <td>1.000000</td>\n",
       "      <td>0.155238</td>\n",
       "      <td>0.622454</td>\n",
       "    </tr>\n",
       "    <tr>\n",
       "      <th>Salary</th>\n",
       "      <td>-0.060435</td>\n",
       "      <td>0.155238</td>\n",
       "      <td>1.000000</td>\n",
       "      <td>0.362083</td>\n",
       "    </tr>\n",
       "    <tr>\n",
       "      <th>Purchase Iphone</th>\n",
       "      <td>-0.042469</td>\n",
       "      <td>0.622454</td>\n",
       "      <td>0.362083</td>\n",
       "      <td>1.000000</td>\n",
       "    </tr>\n",
       "  </tbody>\n",
       "</table>\n",
       "</div>"
      ],
      "text/plain": [
       "                   Gender       Age    Salary  Purchase Iphone\n",
       "Gender           1.000000 -0.073741 -0.060435        -0.042469\n",
       "Age             -0.073741  1.000000  0.155238         0.622454\n",
       "Salary          -0.060435  0.155238  1.000000         0.362083\n",
       "Purchase Iphone -0.042469  0.622454  0.362083         1.000000"
      ]
     },
     "execution_count": 19,
     "metadata": {},
     "output_type": "execute_result"
    }
   ],
   "source": [
    "df.corr()"
   ]
  },
  {
   "cell_type": "code",
   "execution_count": 19,
   "metadata": {
    "scrolled": true
   },
   "outputs": [
    {
     "data": {
      "text/plain": [
       "<matplotlib.axes._subplots.AxesSubplot at 0x21e06bfbb50>"
      ]
     },
     "execution_count": 19,
     "metadata": {},
     "output_type": "execute_result"
    },
    {
     "data": {
      "image/png": "[encoded data removed]",
      "text/plain": [
       "<Figure size 432x288 with 2 Axes>"
      ]
     },
     "metadata": {
      "needs_background": "light"
     },
     "output_type": "display_data"
    }
   ],
   "source": [
    "sns.heatmap(df.corr(), annot= True)"
   ]
  },
  {
   "cell_type": "markdown",
   "metadata": {},
   "source": [
    "Age and Purchase Iphone have the highest correlation= 0.62 followed by\n",
    "Salary and Purchase Iphone= 0.36"
   ]
  },
  {
   "cell_type": "code",
   "execution_count": 20,
   "metadata": {},
   "outputs": [
    {
     "data": {
      "text/plain": [
       "array([[-0.96720415,  0.21949759,  0.16166651],\n",
       "       [-0.96720415,  0.21949759,  0.07369804],\n",
       "       [ 1.03390789, -1.29864134, -1.36312043],\n",
       "       [ 1.03390789,  1.8325202 ,  0.13234369],\n",
       "       [-0.96720415, -0.82422293, -1.2165063 ],\n",
       "       [-0.96720415, -1.01399029,  0.77744585],\n",
       "       [-0.96720415, -0.16003715, -0.45411283],\n",
       "       [-0.96720415, -0.91910661, -0.74734108],\n",
       "       [-0.96720415,  0.40926495,  0.27895782],\n",
       "       [-0.96720415,  0.02973022,  1.24661106],\n",
       "       [ 1.03390789,  0.1246139 ,  1.89171323],\n",
       "       [-0.96720415, -0.06515346, -0.36614435],\n",
       "       [-0.96720415, -0.4446882 , -0.5420813 ],\n",
       "       [ 1.03390789, -0.16003715, -0.51275848],\n",
       "       [-0.96720415,  0.97856705, -1.01124652],\n",
       "       [ 1.03390789,  0.97856705,  0.13234369],\n",
       "       [ 1.03390789, -1.77305976, -1.48041173],\n",
       "       [ 1.03390789,  2.11717125, -0.80598674],\n",
       "       [ 1.03390789,  1.92740389,  2.18494149],\n",
       "       [-0.96720415,  1.35810179, -1.42176608],\n",
       "       [-0.96720415, -1.29864134, -1.24582912],\n",
       "       [-0.96720415, -1.48840871, -1.24582912],\n",
       "       [-0.96720415, -1.77305976, -1.42176608],\n",
       "       [-0.96720415, -0.72933925,  0.27895782],\n",
       "       [ 1.03390789, -1.20375766,  0.51354042],\n",
       "       [ 1.03390789, -0.25492083, -0.3074987 ],\n",
       "       [-0.96720415,  0.88368337,  1.27593389],\n",
       "       [ 1.03390789,  1.73763652,  1.8623904 ],\n",
       "       [-0.96720415,  1.16833442,  0.54286325],\n",
       "       [ 1.03390789, -1.10887398, -1.09921499],\n",
       "       [ 1.03390789,  1.73763652, -0.27817587],\n",
       "       [-0.96720415,  0.693916  , -1.39244325],\n",
       "       [-0.96720415, -0.25492083,  0.22031216],\n",
       "       [-0.96720415,  1.73763652,  1.01202846],\n",
       "       [ 1.03390789,  2.11717125, -0.80598674],\n",
       "       [ 1.03390789,  2.11717125,  0.39624912],\n",
       "       [ 1.03390789, -0.63445556, -0.10223892],\n",
       "       [ 1.03390789,  0.21949759,  0.24963499],\n",
       "       [ 1.03390789, -0.34980451, -0.77666391],\n",
       "       [-0.96720415,  0.1246139 ,  0.04437521],\n",
       "       [-0.96720415,  1.16833442, -0.98192369],\n",
       "       [ 1.03390789, -0.63445556,  0.13234369],\n",
       "       [ 1.03390789,  0.1246139 , -0.80598674],\n",
       "       [-0.96720415, -1.86794344, -0.04359327],\n",
       "       [-0.96720415, -0.63445556,  0.04437521],\n",
       "       [-0.96720415,  1.35810179,  0.6015089 ],\n",
       "       [-0.96720415, -0.63445556, -0.04359327],\n",
       "       [ 1.03390789, -0.82422293,  0.16166651],\n",
       "       [ 1.03390789, -1.29864134, -0.33682152],\n",
       "       [ 1.03390789, -0.53957188,  1.48119367],\n",
       "       [ 1.03390789, -1.20375766, -1.39244325],\n",
       "       [ 1.03390789, -0.53957188, -1.50973455],\n",
       "       [ 1.03390789, -0.82422293,  2.30223279],\n",
       "       [ 1.03390789, -0.25492083, -0.57140413],\n",
       "       [-0.96720415, -0.63445556, -1.59770303],\n",
       "       [-0.96720415, -1.10887398, -1.01124652],\n",
       "       [-0.96720415, -0.06515346, -1.06989217],\n",
       "       [ 1.03390789, -1.67817608,  0.4842176 ],\n",
       "       [ 1.03390789, -0.06515346, -0.42479   ],\n",
       "       [ 1.03390789, -0.16003715,  1.42254802],\n",
       "       [-0.96720415,  1.35810179,  1.30525672],\n",
       "       [-0.96720415, -0.16003715, -0.57140413],\n",
       "       [-0.96720415,  0.88368337, -0.57140413],\n",
       "       [ 1.03390789,  0.21949759, -0.65937261],\n",
       "       [ 1.03390789,  0.78879969,  0.27895782],\n",
       "       [-0.96720415, -1.10887398, -0.77666391],\n",
       "       [ 1.03390789,  0.40926495, -0.13156174],\n",
       "       [-0.96720415,  0.1246139 , -0.3074987 ],\n",
       "       [-0.96720415,  2.11717125,  1.12931976],\n",
       "       [ 1.03390789, -0.4446882 , -0.77666391],\n",
       "       [ 1.03390789,  0.31438127, -0.51275848],\n",
       "       [-0.96720415, -1.67817608,  0.36692629],\n",
       "       [ 1.03390789, -0.06515346,  0.22031216],\n",
       "       [ 1.03390789,  0.88368337, -0.77666391],\n",
       "       [ 1.03390789,  0.88368337,  1.04135128],\n",
       "       [-0.96720415, -0.25492083, -0.27817587],\n",
       "       [-0.96720415,  0.31438127, -1.15786065],\n",
       "       [-0.96720415,  2.02228757, -0.80598674],\n",
       "       [ 1.03390789,  0.21949759, -0.3074987 ],\n",
       "       [-0.96720415, -1.01399029,  1.97968171],\n",
       "       [-0.96720415,  0.97856705, -1.15786065],\n",
       "       [ 1.03390789,  0.21949759, -0.13156174],\n",
       "       [-0.96720415, -1.67817608, -0.98192369],\n",
       "       [-0.96720415,  1.54786915,  1.12931976],\n",
       "       [-0.96720415,  0.02973022, -0.57140413],\n",
       "       [-0.96720415,  0.31438127, -0.27817587],\n",
       "       [-0.96720415,  2.02228757,  0.19098934],\n",
       "       [ 1.03390789, -0.25492083, -0.33682152],\n",
       "       [ 1.03390789,  0.88368337, -1.36312043],\n",
       "       [ 1.03390789,  0.78879969, -1.36312043],\n",
       "       [-0.96720415, -0.16003715,  1.65713062],\n",
       "       [-0.96720415, -0.34980451,  0.07369804],\n",
       "       [ 1.03390789,  1.07345074, -1.2165063 ],\n",
       "       [-0.96720415,  0.31438127,  0.30828064],\n",
       "       [ 1.03390789,  0.40926495,  2.33155562],\n",
       "       [-0.96720415,  0.40926495,  0.6015089 ],\n",
       "       [-0.96720415,  0.693916  , -0.71801826],\n",
       "       [ 1.03390789, -1.58329239,  0.07369804],\n",
       "       [-0.96720415,  0.02973022, -0.13156174],\n",
       "       [ 1.03390789,  1.07345074,  0.57218607],\n",
       "       [ 1.03390789, -1.20375766, -1.06989217],\n",
       "       [ 1.03390789, -0.72933925, -0.60072696],\n",
       "       [-0.96720415,  1.92740389, -0.92327804],\n",
       "       [ 1.03390789,  2.11717125, -1.04056934],\n",
       "       [ 1.03390789, -1.77305976,  0.45489477],\n",
       "       [ 1.03390789,  1.45298547,  0.07369804],\n",
       "       [ 1.03390789,  0.21949759,  0.16166651],\n",
       "       [ 1.03390789, -0.06515346, -0.51275848],\n",
       "       [-0.96720415, -0.53957188,  0.4842176 ],\n",
       "       [ 1.03390789, -1.01399029, -0.33682152],\n",
       "       [ 1.03390789, -0.82422293,  0.30828064],\n",
       "       [ 1.03390789, -0.06515346,  0.13234369],\n",
       "       [-0.96720415, -0.63445556, -1.04056934],\n",
       "       [-0.96720415, -0.4446882 ,  2.33155562],\n",
       "       [ 1.03390789,  0.31438127, -0.71801826],\n",
       "       [-0.96720415,  0.40926495, -0.48343565],\n",
       "       [ 1.03390789, -0.16003715, -1.06989217],\n",
       "       [ 1.03390789, -0.72933925,  0.30828064],\n",
       "       [-0.96720415,  1.54786915,  1.01202846],\n",
       "       [ 1.03390789,  0.02973022,  0.04437521],\n",
       "       [ 1.03390789, -1.58329239,  0.54286325],\n",
       "       [-0.96720415, -1.29864134,  0.57218607],\n",
       "       [ 1.03390789, -0.82422293, -0.24885305],\n",
       "       [ 1.03390789, -0.82422293, -0.77666391],\n",
       "       [ 1.03390789, -1.01399029, -1.4510889 ],\n",
       "       [-0.96720415,  0.31438127,  0.04437521],\n",
       "       [ 1.03390789, -0.06515346,  0.01505238],\n",
       "       [-0.96720415, -1.86794344,  0.4842176 ],\n",
       "       [-0.96720415,  0.88368337,  1.09999694],\n",
       "       [ 1.03390789,  0.21949759, -0.36614435],\n",
       "       [-0.96720415, -0.06515346,  2.24358714],\n",
       "       [ 1.03390789, -1.10887398, -1.15786065],\n",
       "       [-0.96720415,  0.59903232,  2.03832736],\n",
       "       [-0.96720415,  0.1246139 ,  0.27895782],\n",
       "       [ 1.03390789,  1.07345074,  0.4842176 ],\n",
       "       [ 1.03390789,  0.40926495,  0.30828064],\n",
       "       [-0.96720415,  0.40926495,  1.12931976],\n",
       "       [-0.96720415,  0.02973022, -0.57140413],\n",
       "       [-0.96720415,  0.693916  ,  1.80374475],\n",
       "       [ 1.03390789,  0.40926495, -0.45411283],\n",
       "       [-0.96720415,  1.16833442, -0.74734108],\n",
       "       [-0.96720415,  1.8325202 , -1.27515195],\n",
       "       [ 1.03390789, -0.91910661,  0.57218607],\n",
       "       [-0.96720415, -1.29864134, -0.42479   ],\n",
       "       [-0.96720415, -0.16003715,  0.16166651],\n",
       "       [ 1.03390789, -1.01399029,  0.6015089 ],\n",
       "       [-0.96720415,  2.02228757, -1.18718347],\n",
       "       [-0.96720415, -0.16003715, -0.1902074 ],\n",
       "       [-0.96720415,  1.07345074, -0.98192369],\n",
       "       [-0.96720415,  1.2632181 ,  1.89171323],\n",
       "       [-0.96720415, -0.91910661,  0.51354042],\n",
       "       [-0.96720415, -1.10887398,  0.42557194],\n",
       "       [-0.96720415, -0.25492083,  0.04437521],\n",
       "       [-0.96720415, -0.25492083,  0.80676868],\n",
       "       [-0.96720415,  2.11717125, -0.68869543],\n",
       "       [ 1.03390789, -1.77305976,  0.19098934],\n",
       "       [-0.96720415, -1.10887398,  0.07369804],\n",
       "       [ 1.03390789, -0.25492083,  0.16166651],\n",
       "       [-0.96720415, -1.01399029, -0.45411283],\n",
       "       [ 1.03390789,  0.97856705,  0.6015089 ],\n",
       "       [ 1.03390789,  0.693916  , -1.39244325],\n",
       "       [-0.96720415, -1.48840871, -0.1902074 ],\n",
       "       [-0.96720415, -0.82422293,  0.39624912],\n",
       "       [-0.96720415, -0.72933925,  1.36390237],\n",
       "       [-0.96720415, -0.25492083, -1.36312043],\n",
       "       [ 1.03390789, -1.77305976, -1.30447477],\n",
       "       [ 1.03390789,  0.97856705, -0.83530956],\n",
       "       [-0.96720415,  0.88368337,  2.18494149],\n",
       "       [-0.96720415, -1.67817608,  0.36692629],\n",
       "       [ 1.03390789, -0.34980451,  1.24661106],\n",
       "       [-0.96720415,  0.97856705,  1.45187084],\n",
       "       [ 1.03390789,  0.78879969, -1.2165063 ],\n",
       "       [-0.96720415, -0.53957188,  1.39322519],\n",
       "       [ 1.03390789, -1.10887398, -1.59770303],\n",
       "       [ 1.03390789,  0.88368337, -1.4510889 ],\n",
       "       [ 1.03390789, -0.25492083,  0.07369804],\n",
       "       [-0.96720415, -1.01399029, -0.36614435],\n",
       "       [ 1.03390789, -0.72933925,  0.57218607],\n",
       "       [-0.96720415,  0.31438127,  0.07369804],\n",
       "       [ 1.03390789, -1.29864134, -1.48041173],\n",
       "       [-0.96720415,  0.97856705,  2.00900453],\n",
       "       [ 1.03390789, -0.63445556, -1.50973455],\n",
       "       [-0.96720415,  0.02973022,  1.27593389],\n",
       "       [ 1.03390789,  1.35810179,  2.36087844],\n",
       "       [-0.96720415,  1.45298547,  1.01202846],\n",
       "       [ 1.03390789,  0.31438127,  0.51354042],\n",
       "       [-0.96720415, -0.53957188,  1.92103606],\n",
       "       [ 1.03390789,  0.21949759,  1.09999694],\n",
       "       [ 1.03390789, -1.29864134, -0.42479   ],\n",
       "       [-0.96720415, -0.06515346,  1.97968171],\n",
       "       [-0.96720415,  0.97856705, -1.18718347],\n",
       "       [-0.96720415,  1.92740389, -0.65937261],\n",
       "       [-0.96720415,  0.1246139 ,  0.16166651],\n",
       "       [-0.96720415, -1.01399029,  0.42557194],\n",
       "       [-0.96720415, -1.58329239, -0.04359327],\n",
       "       [ 1.03390789,  1.2632181 , -1.36312043],\n",
       "       [-0.96720415, -0.91910661,  0.42557194],\n",
       "       [-0.96720415,  1.35810179,  2.00900453],\n",
       "       [ 1.03390789, -1.10887398, -1.56838021],\n",
       "       [ 1.03390789,  0.693916  ,  0.27895782],\n",
       "       [-0.96720415, -1.29864134, -1.09921499],\n",
       "       [-0.96720415, -1.58329239, -1.56838021],\n",
       "       [ 1.03390789, -0.82422293, -0.77666391],\n",
       "       [-0.96720415, -0.06515346,  0.04437521],\n",
       "       [ 1.03390789, -0.25492083, -0.92327804],\n",
       "       [ 1.03390789,  0.40926495,  0.10302086],\n",
       "       [-0.96720415, -1.39352503, -0.63004978],\n",
       "       [ 1.03390789, -0.4446882 , -1.12853782],\n",
       "       [ 1.03390789,  0.97856705, -1.06989217],\n",
       "       [-0.96720415, -0.06515346,  0.24963499],\n",
       "       [-0.96720415,  0.1246139 ,  1.89171323],\n",
       "       [-0.96720415, -1.67817608, -1.36312043],\n",
       "       [ 1.03390789, -0.16003715, -0.27817587],\n",
       "       [ 1.03390789, -0.25492083, -1.39244325],\n",
       "       [ 1.03390789, -0.25492083,  0.16166651],\n",
       "       [ 1.03390789, -1.86794344,  0.36692629],\n",
       "       [-0.96720415, -0.4446882 , -1.2165063 ],\n",
       "       [ 1.03390789,  0.1246139 ,  0.77744585],\n",
       "       [-0.96720415, -0.91910661, -0.95260087],\n",
       "       [-0.96720415,  1.92740389,  0.92405998],\n",
       "       [-0.96720415,  0.40926495,  0.01505238],\n",
       "       [-0.96720415,  0.78879969,  0.36692629],\n",
       "       [ 1.03390789, -0.34980451,  1.33457954],\n",
       "       [-0.96720415,  0.97856705,  1.80374475],\n",
       "       [-0.96720415, -0.91910661,  0.45489477],\n",
       "       [-0.96720415,  1.8325202 ,  1.53983932],\n",
       "       [-0.96720415,  1.92740389,  0.74812303],\n",
       "       [ 1.03390789, -0.72933925,  1.09999694],\n",
       "       [-0.96720415, -0.25492083, -1.30447477],\n",
       "       [ 1.03390789,  0.40926495, -0.45411283],\n",
       "       [-0.96720415,  0.97856705,  1.89171323],\n",
       "       [ 1.03390789, -1.20375766,  0.6015089 ],\n",
       "       [-0.96720415, -0.4446882 , -0.27817587],\n",
       "       [-0.96720415, -0.25492083,  2.27290996],\n",
       "       [ 1.03390789, -0.25492083,  0.54286325],\n",
       "       [ 1.03390789,  0.31438127,  0.27895782],\n",
       "       [ 1.03390789,  1.8325202 , -0.27817587],\n",
       "       [ 1.03390789, -1.20375766,  0.30828064],\n",
       "       [ 1.03390789, -0.72933925, -1.53905738],\n",
       "       [-0.96720415,  0.31438127, -0.5420813 ],\n",
       "       [-0.96720415,  0.50414864,  1.24661106],\n",
       "       [ 1.03390789,  1.64275284, -0.89395521],\n",
       "       [ 1.03390789,  0.78879969,  0.54286325],\n",
       "       [ 1.03390789, -0.72933925,  1.92103606],\n",
       "       [-0.96720415, -1.01399029, -1.53905738],\n",
       "       [ 1.03390789,  0.02973022, -0.24885305],\n",
       "       [ 1.03390789,  0.31438127, -0.51275848],\n",
       "       [-0.96720415, -0.34980451, -1.30447477],\n",
       "       [-0.96720415,  0.59903232, -0.89395521],\n",
       "       [-0.96720415, -0.25492083,  0.07369804],\n",
       "       [ 1.03390789, -0.16003715,  0.86541433],\n",
       "       [ 1.03390789, -1.67817608, -0.60072696],\n",
       "       [-0.96720415,  0.78879969, -1.09921499],\n",
       "       [-0.96720415, -0.4446882 ,  1.27593389],\n",
       "       [ 1.03390789,  0.78879969, -0.3074987 ],\n",
       "       [ 1.03390789,  2.02228757,  1.77442193],\n",
       "       [-0.96720415,  0.88368337, -0.60072696],\n",
       "       [-0.96720415, -0.25492083, -0.13156174],\n",
       "       [-0.96720415,  0.21949759, -0.27817587],\n",
       "       [ 1.03390789, -0.16003715,  2.18494149],\n",
       "       [ 1.03390789, -0.06515346,  0.07369804],\n",
       "       [ 1.03390789, -1.48840871, -1.50973455],\n",
       "       [-0.96720415,  0.1246139 , -0.24885305],\n",
       "       [ 1.03390789, -0.63445556, -0.33682152],\n",
       "       [-0.96720415, -1.10887398, -1.53905738],\n",
       "       [ 1.03390789,  1.54786915,  0.01505238],\n",
       "       [ 1.03390789, -0.63445556,  0.19098934],\n",
       "       [ 1.03390789,  0.88368337, -1.30447477],\n",
       "       [ 1.03390789, -0.53957188,  0.89473716],\n",
       "       [-0.96720415, -1.10887398, -0.51275848],\n",
       "       [ 1.03390789,  0.40926495, -0.13156174],\n",
       "       [-0.96720415, -0.06515346,  0.68947738],\n",
       "       [-0.96720415,  0.02973022,  0.30828064],\n",
       "       [-0.96720415,  0.78879969, -1.39244325],\n",
       "       [-0.96720415,  0.40926495,  0.30828064],\n",
       "       [ 1.03390789, -0.72933925,  0.51354042],\n",
       "       [-0.96720415, -0.82422293, -0.65937261],\n",
       "       [ 1.03390789, -0.06515346, -0.48343565],\n",
       "       [-0.96720415,  0.1246139 ,  0.10302086],\n",
       "       [ 1.03390789,  0.97856705,  2.09697301],\n",
       "       [ 1.03390789, -0.16003715,  1.6278078 ],\n",
       "       [ 1.03390789,  0.21949759, -0.36614435],\n",
       "       [ 1.03390789,  0.97856705, -1.06989217],\n",
       "       [ 1.03390789, -0.25492083, -1.4510889 ],\n",
       "       [-0.96720415, -0.4446882 , -0.83530956],\n",
       "       [-0.96720415, -1.39352503,  0.36692629],\n",
       "       [ 1.03390789, -0.25492083,  0.27895782],\n",
       "       [-0.96720415,  0.40926495,  0.16166651],\n",
       "       [-0.96720415, -0.82422293,  0.39624912],\n",
       "       [ 1.03390789, -0.91910661,  0.27895782],\n",
       "       [ 1.03390789,  0.1246139 ,  1.07067411],\n",
       "       [ 1.03390789,  0.1246139 ,  0.04437521],\n",
       "       [ 1.03390789, -1.86794344, -0.51275848],\n",
       "       [-0.96720415,  0.31438127,  0.07369804],\n",
       "       [ 1.03390789,  0.1246139 , -0.80598674],\n",
       "       [-0.96720415, -1.39352503, -1.2165063 ],\n",
       "       [-0.96720415,  1.64275284,  1.77442193],\n",
       "       [-0.96720415,  2.02228757,  0.39624912],\n",
       "       [-0.96720415,  1.64275284,  1.6278078 ],\n",
       "       [ 1.03390789,  0.02973022, -0.5420813 ]])"
      ]
     },
     "execution_count": 20,
     "metadata": {},
     "output_type": "execute_result"
    }
   ],
   "source": [
    "X_train"
   ]
  },
  {
   "cell_type": "code",
   "execution_count": 21,
   "metadata": {},
   "outputs": [
    {
     "data": {
      "text/plain": [
       "122    0\n",
       "228    0\n",
       "178    0\n",
       "275    1\n",
       "93     0\n",
       "      ..\n",
       "175    0\n",
       "206    1\n",
       "64     0\n",
       "262    1\n",
       "330    0\n",
       "Name: Purchase Iphone, Length: 300, dtype: int64"
      ]
     },
     "execution_count": 21,
     "metadata": {},
     "output_type": "execute_result"
    }
   ],
   "source": [
    "y_train"
   ]
  },
  {
   "cell_type": "code",
   "execution_count": 28,
   "metadata": {},
   "outputs": [
    {
     "data": {
      "text/html": [
       "<div>\n",
       "<style scoped>\n",
       "    .dataframe tbody tr th:only-of-type {\n",
       "        vertical-align: middle;\n",
       "    }\n",
       "\n",
       "    .dataframe tbody tr th {\n",
       "        vertical-align: top;\n",
       "    }\n",
       "\n",
       "    .dataframe thead th {\n",
       "        text-align: right;\n",
       "    }\n",
       "</style>\n",
       "<table border=\"1\" class=\"dataframe\">\n",
       "  <thead>\n",
       "    <tr style=\"text-align: right;\">\n",
       "      <th></th>\n",
       "      <th>Gender</th>\n",
       "      <th>Age</th>\n",
       "      <th>Salary</th>\n",
       "      <th>Purchase Iphone</th>\n",
       "    </tr>\n",
       "  </thead>\n",
       "  <tbody>\n",
       "    <tr>\n",
       "      <th>0</th>\n",
       "      <td>-0.967204</td>\n",
       "      <td>0.219498</td>\n",
       "      <td>0.161667</td>\n",
       "      <td>0</td>\n",
       "    </tr>\n",
       "    <tr>\n",
       "      <th>1</th>\n",
       "      <td>-0.967204</td>\n",
       "      <td>0.219498</td>\n",
       "      <td>0.073698</td>\n",
       "      <td>0</td>\n",
       "    </tr>\n",
       "    <tr>\n",
       "      <th>2</th>\n",
       "      <td>1.033908</td>\n",
       "      <td>-1.298641</td>\n",
       "      <td>-1.363120</td>\n",
       "      <td>0</td>\n",
       "    </tr>\n",
       "    <tr>\n",
       "      <th>3</th>\n",
       "      <td>1.033908</td>\n",
       "      <td>1.832520</td>\n",
       "      <td>0.132344</td>\n",
       "      <td>1</td>\n",
       "    </tr>\n",
       "    <tr>\n",
       "      <th>4</th>\n",
       "      <td>-0.967204</td>\n",
       "      <td>-0.824223</td>\n",
       "      <td>-1.216506</td>\n",
       "      <td>0</td>\n",
       "    </tr>\n",
       "    <tr>\n",
       "      <th>...</th>\n",
       "      <td>...</td>\n",
       "      <td>...</td>\n",
       "      <td>...</td>\n",
       "      <td>...</td>\n",
       "    </tr>\n",
       "    <tr>\n",
       "      <th>295</th>\n",
       "      <td>-0.967204</td>\n",
       "      <td>-1.393525</td>\n",
       "      <td>-1.216506</td>\n",
       "      <td>0</td>\n",
       "    </tr>\n",
       "    <tr>\n",
       "      <th>296</th>\n",
       "      <td>-0.967204</td>\n",
       "      <td>1.642753</td>\n",
       "      <td>1.774422</td>\n",
       "      <td>1</td>\n",
       "    </tr>\n",
       "    <tr>\n",
       "      <th>297</th>\n",
       "      <td>-0.967204</td>\n",
       "      <td>2.022288</td>\n",
       "      <td>0.396249</td>\n",
       "      <td>0</td>\n",
       "    </tr>\n",
       "    <tr>\n",
       "      <th>298</th>\n",
       "      <td>-0.967204</td>\n",
       "      <td>1.642753</td>\n",
       "      <td>1.627808</td>\n",
       "      <td>1</td>\n",
       "    </tr>\n",
       "    <tr>\n",
       "      <th>299</th>\n",
       "      <td>1.033908</td>\n",
       "      <td>0.029730</td>\n",
       "      <td>-0.542081</td>\n",
       "      <td>0</td>\n",
       "    </tr>\n",
       "  </tbody>\n",
       "</table>\n",
       "<p>300 rows × 4 columns</p>\n",
       "</div>"
      ],
      "text/plain": [
       "       Gender       Age    Salary  Purchase Iphone\n",
       "0   -0.967204  0.219498  0.161667                0\n",
       "1   -0.967204  0.219498  0.073698                0\n",
       "2    1.033908 -1.298641 -1.363120                0\n",
       "3    1.033908  1.832520  0.132344                1\n",
       "4   -0.967204 -0.824223 -1.216506                0\n",
       "..        ...       ...       ...              ...\n",
       "295 -0.967204 -1.393525 -1.216506                0\n",
       "296 -0.967204  1.642753  1.774422                1\n",
       "297 -0.967204  2.022288  0.396249                0\n",
       "298 -0.967204  1.642753  1.627808                1\n",
       "299  1.033908  0.029730 -0.542081                0\n",
       "\n",
       "[300 rows x 4 columns]"
      ]
     },
     "execution_count": 28,
     "metadata": {},
     "output_type": "execute_result"
    }
   ],
   "source": [
    "sc_df = pd.DataFrame(X_train, columns= (\"Gender\", \"Age\",\"Salary\"))\n",
    "y_train = list(y_train)\n",
    "sc_df[\"Purchase Iphone\"] = y_train\n",
    "sc_df # Scaled Trainind data "
   ]
  },
  {
   "cell_type": "code",
   "execution_count": 29,
   "metadata": {},
   "outputs": [
    {
     "data": {
      "text/html": [
       "<div>\n",
       "<style scoped>\n",
       "    .dataframe tbody tr th:only-of-type {\n",
       "        vertical-align: middle;\n",
       "    }\n",
       "\n",
       "    .dataframe tbody tr th {\n",
       "        vertical-align: top;\n",
       "    }\n",
       "\n",
       "    .dataframe thead th {\n",
       "        text-align: right;\n",
       "    }\n",
       "</style>\n",
       "<table border=\"1\" class=\"dataframe\">\n",
       "  <thead>\n",
       "    <tr style=\"text-align: right;\">\n",
       "      <th></th>\n",
       "      <th>Gender</th>\n",
       "      <th>Age</th>\n",
       "      <th>Salary</th>\n",
       "      <th>Purchase Iphone</th>\n",
       "    </tr>\n",
       "  </thead>\n",
       "  <tbody>\n",
       "    <tr>\n",
       "      <th>Gender</th>\n",
       "      <td>1.000000</td>\n",
       "      <td>-0.052257</td>\n",
       "      <td>-0.093996</td>\n",
       "      <td>-0.023905</td>\n",
       "    </tr>\n",
       "    <tr>\n",
       "      <th>Age</th>\n",
       "      <td>-0.052257</td>\n",
       "      <td>1.000000</td>\n",
       "      <td>0.179203</td>\n",
       "      <td>0.620340</td>\n",
       "    </tr>\n",
       "    <tr>\n",
       "      <th>Salary</th>\n",
       "      <td>-0.093996</td>\n",
       "      <td>0.179203</td>\n",
       "      <td>1.000000</td>\n",
       "      <td>0.389923</td>\n",
       "    </tr>\n",
       "    <tr>\n",
       "      <th>Purchase Iphone</th>\n",
       "      <td>-0.023905</td>\n",
       "      <td>0.620340</td>\n",
       "      <td>0.389923</td>\n",
       "      <td>1.000000</td>\n",
       "    </tr>\n",
       "  </tbody>\n",
       "</table>\n",
       "</div>"
      ],
      "text/plain": [
       "                   Gender       Age    Salary  Purchase Iphone\n",
       "Gender           1.000000 -0.052257 -0.093996        -0.023905\n",
       "Age             -0.052257  1.000000  0.179203         0.620340\n",
       "Salary          -0.093996  0.179203  1.000000         0.389923\n",
       "Purchase Iphone -0.023905  0.620340  0.389923         1.000000"
      ]
     },
     "execution_count": 29,
     "metadata": {},
     "output_type": "execute_result"
    }
   ],
   "source": [
    "# We will now find correlation using the scaled training data\n",
    "\n",
    "sc_df.corr()"
   ]
  },
  {
   "cell_type": "code",
   "execution_count": 30,
   "metadata": {},
   "outputs": [
    {
     "data": {
      "text/plain": [
       "<matplotlib.axes._subplots.AxesSubplot at 0x1f8504f7be0>"
      ]
     },
     "execution_count": 30,
     "metadata": {},
     "output_type": "execute_result"
    },
    {
     "data": {
      "image/png": "[encoded data removed]",
      "text/plain": [
       "<Figure size 432x288 with 2 Axes>"
      ]
     },
     "metadata": {
      "needs_background": "light"
     },
     "output_type": "display_data"
    }
   ],
   "source": [
    "sns.heatmap(sc_df.corr(), annot= True)"
   ]
  },
  {
   "cell_type": "code",
   "execution_count": 31,
   "metadata": {},
   "outputs": [],
   "source": [
    "# Correlation b/w Age & Purchase Iphone is same as before: 0.62\n",
    "# Correlation b/w Salary & Purchase Iphone is increased to 0.39"
   ]
  },
  {
   "cell_type": "code",
   "execution_count": 24,
   "metadata": {},
   "outputs": [],
   "source": [
    "# # df with label:  Purchase Iphone(Target)\n",
    "# y = df1[\"Purchase Iphone\"]\n",
    "# y"
   ]
  },
  {
   "cell_type": "code",
   "execution_count": 25,
   "metadata": {},
   "outputs": [],
   "source": [
    "# #importing train_test_split\n",
    "# from sklearn.model_selection import train_test_split\n",
    "# X_train, X_test, y_train, y_test = train_test_split(X, y, test_size= 0.25, random_state= 0)"
   ]
  },
  {
   "cell_type": "code",
   "execution_count": 32,
   "metadata": {},
   "outputs": [],
   "source": [
    "#  importing KNeighborsClassifier \n",
    "from sklearn.neighbors import KNeighborsClassifier"
   ]
  },
  {
   "cell_type": "markdown",
   "metadata": {},
   "source": [
    "Now, we have two metrics for the distance method:\n",
    "    1. For Euclidean distance, metric = minkowski and p=2\n",
    "    \n",
    "    1. For Manhattan distance, metric = minkowski and p=1"
   ]
  },
  {
   "cell_type": "code",
   "execution_count": 33,
   "metadata": {},
   "outputs": [
    {
     "data": {
      "text/plain": [
       "KNeighborsClassifier()"
      ]
     },
     "execution_count": 33,
     "metadata": {},
     "output_type": "execute_result"
    }
   ],
   "source": [
    "# Using Euclidean Distance as our metric here:\n",
    "\n",
    "knn= KNeighborsClassifier(n_neighbors= 5, metric= \"minkowski\", p= 2)\n",
    "knn.fit(X_train, y_train) # training the model with k= 5"
   ]
  },
  {
   "cell_type": "code",
   "execution_count": 34,
   "metadata": {},
   "outputs": [
    {
     "data": {
      "text/plain": [
       "array([0, 1, 0, 0, 1, 0, 0, 1, 0, 0, 1, 0, 0, 0, 1, 0, 1, 0, 0, 1, 1, 0,\n",
       "       0, 0, 0, 1, 0, 1, 0, 0, 0, 1, 0, 1, 0, 0, 1, 1, 1, 1, 0, 0, 1, 0,\n",
       "       1, 1, 0, 0, 0, 1, 0, 0, 0, 0, 0, 1, 1, 0, 0, 0, 1, 1, 0, 0, 1, 1,\n",
       "       0, 0, 0, 0, 1, 1, 0, 1, 0, 0, 0, 1, 0, 0, 1, 0, 0, 0, 0, 0, 0, 1,\n",
       "       1, 1, 1, 0, 0, 0, 0, 1, 0, 1, 0, 1])"
      ]
     },
     "execution_count": 34,
     "metadata": {},
     "output_type": "execute_result"
    }
   ],
   "source": [
    "# Prediction: using test data\n",
    "\n",
    "y_pred= knn.predict(X_test)\n",
    "y_pred"
   ]
  },
  {
   "cell_type": "code",
   "execution_count": 35,
   "metadata": {},
   "outputs": [
    {
     "data": {
      "text/plain": [
       "array([1])"
      ]
     },
     "execution_count": 35,
     "metadata": {},
     "output_type": "execute_result"
    }
   ],
   "source": [
    "knn.predict([[1,51,23000]])"
   ]
  },
  {
   "cell_type": "code",
   "execution_count": 36,
   "metadata": {},
   "outputs": [
    {
     "name": "stdout",
     "output_type": "stream",
     "text": [
      "[[58  6]\n",
      " [ 4 32]]\n"
     ]
    }
   ],
   "source": [
    "# Confusion Matrix\n",
    "from sklearn import metrics\n",
    "conf = metrics.confusion_matrix(y_test, y_pred)\n",
    "print(conf)"
   ]
  },
  {
   "cell_type": "markdown",
   "metadata": {},
   "source": [
    "|          \t| NEGATIVE \t| POSITIVE \t| -> PREDICTED\n",
    "\n",
    "|----------\t|----------\t|----------\t|\n",
    "\n",
    "| NEGATIVE \t| TN       \t| FP       \t|\n",
    "\n",
    "| POSITIVE \t| FN       \t| TP       \t|"
   ]
  },
  {
   "cell_type": "code",
   "execution_count": 37,
   "metadata": {},
   "outputs": [
    {
     "data": {
      "text/plain": [
       "<matplotlib.axes._subplots.AxesSubplot at 0x1f850b9bd00>"
      ]
     },
     "execution_count": 37,
     "metadata": {},
     "output_type": "execute_result"
    },
    {
     "data": {
      "image/png": "[encoded data removed]",
      "text/plain": [
       "<Figure size 432x288 with 2 Axes>"
      ]
     },
     "metadata": {
      "needs_background": "light"
     },
     "output_type": "display_data"
    }
   ],
   "source": [
    "sns.heatmap(conf, annot= True)"
   ]
  },
  {
   "cell_type": "code",
   "execution_count": 38,
   "metadata": {},
   "outputs": [
    {
     "data": {
      "text/plain": [
       "0.93"
      ]
     },
     "execution_count": 38,
     "metadata": {},
     "output_type": "execute_result"
    }
   ],
   "source": [
    "# Checking accuracy on Training set\n",
    "\n",
    "train_accuracy = knn.score(X_train, y_train)\n",
    "train_accuracy"
   ]
  },
  {
   "cell_type": "code",
   "execution_count": 39,
   "metadata": {},
   "outputs": [
    {
     "data": {
      "text/plain": [
       "0.9"
      ]
     },
     "execution_count": 39,
     "metadata": {},
     "output_type": "execute_result"
    }
   ],
   "source": [
    "# Accuracy on Test data:\n",
    "\n",
    "test_accuracy = knn.score(X_test, y_test)\n",
    "test_accuracy"
   ]
  },
  {
   "cell_type": "code",
   "execution_count": 40,
   "metadata": {},
   "outputs": [
    {
     "data": {
      "text/plain": [
       "0.9"
      ]
     },
     "execution_count": 40,
     "metadata": {},
     "output_type": "execute_result"
    }
   ],
   "source": [
    "## Accuracy = (TP+TN)/(TP+FP+TN+FN)\n",
    "\n",
    "test_acc= metrics.accuracy_score(y_test, y_pred) # this gives same result as above code. Accuracy metrics work only for test data\n",
    "test_acc"
   ]
  },
  {
   "cell_type": "code",
   "execution_count": 41,
   "metadata": {},
   "outputs": [
    {
     "data": {
      "text/plain": [
       "0.8421052631578947"
      ]
     },
     "execution_count": 41,
     "metadata": {},
     "output_type": "execute_result"
    }
   ],
   "source": [
    "## Precision = Positive Predicted Value = TP/(TP+FP)\n",
    "\n",
    "precision= metrics.precision_score(y_test, y_pred)\n",
    "precision"
   ]
  },
  {
   "cell_type": "code",
   "execution_count": 42,
   "metadata": {},
   "outputs": [
    {
     "data": {
      "text/plain": [
       "0.8888888888888888"
      ]
     },
     "execution_count": 42,
     "metadata": {},
     "output_type": "execute_result"
    }
   ],
   "source": [
    "## Recall = True Positive Rate = TP/(TP+FN)\n",
    "\n",
    "recall= metrics.recall_score(y_test, y_pred)\n",
    "recall"
   ]
  },
  {
   "cell_type": "markdown",
   "metadata": {},
   "source": [
    "Accuracy of 90%\n",
    "Incorrect Predictions = FN+FP = 4+6 = 10"
   ]
  },
  {
   "cell_type": "markdown",
   "metadata": {},
   "source": [
    "Train and Test accuracy is quite high. This might be a case of Overfitting.\n",
    "Let's see if we can select a better k value such that it is neither a case of Overfitting nor Underfitting.\n",
    "Let's observe how the kNN Classifier performs on the training and testing data for different k values (1 to 15)\n",
    "We'll see the accuracy  for train and test data for k values from 1 to 15"
   ]
  },
  {
   "cell_type": "code",
   "execution_count": 43,
   "metadata": {},
   "outputs": [],
   "source": [
    "train_accuracy= []\n",
    "test_accuracy= []\n",
    "for neighbors in range(1,16):\n",
    "    knn= KNeighborsClassifier(n_neighbors= neighbors, metric= \"minkowski\", p= 2)\n",
    "    knn.fit(X_train, y_train)\n",
    "    train_accuracy.append(knn.score(X_train, y_train))\n",
    "    test_accuracy.append(knn.score(X_test, y_test))\n",
    "\n",
    "# print(train_accuracy)\n",
    "# print(test_accuracy)"
   ]
  },
  {
   "cell_type": "code",
   "execution_count": 44,
   "metadata": {},
   "outputs": [
    {
     "data": {
      "image/png": "[encoded data removed]",
      "text/plain": [
       "<Figure size 432x288 with 1 Axes>"
      ]
     },
     "metadata": {
      "needs_background": "light"
     },
     "output_type": "display_data"
    }
   ],
   "source": [
    "##Let’s plot the training and test data accuracy against n_neighbors together:\n",
    "\n",
    "plt.plot(range(1,16), train_accuracy, label= \"Train Accuracy\")\n",
    "plt.plot(range(1,16), test_accuracy, label= \"Test Accuracy\")\n",
    "plt.xlabel(\"Neighbors (k-value)\")\n",
    "plt.ylabel(\"Accuracy\")\n",
    "plt.legend()\n",
    "plt.show()"
   ]
  },
  {
   "cell_type": "markdown",
   "metadata": {},
   "source": [
    "We can see initially, when k<9, Train accuracy is quite higher than the Test accuracy which is a case of Overfitting.\n",
    "When k>9, then it's visible that Train Accuracy is lower than the Test Accuracy which is a case of Underfitting.\n",
    "The Train and Test Accuracy come closer around k=9. \n",
    "Test accuracy is visibly high ast k=9 along with Train Accuracy, which is the spot we're intersted in and hence, it gives us the Optimal k Value = 9"
   ]
  },
  {
   "cell_type": "code",
   "execution_count": 45,
   "metadata": {},
   "outputs": [
    {
     "name": "stdout",
     "output_type": "stream",
     "text": [
      "[[58  6]\n",
      " [ 3 33]]\n"
     ]
    },
    {
     "data": {
      "text/plain": [
       "<matplotlib.axes._subplots.AxesSubplot at 0x1f850c392e0>"
      ]
     },
     "execution_count": 45,
     "metadata": {},
     "output_type": "execute_result"
    },
    {
     "data": {
      "image/png": "[encoded data removed]",
      "text/plain": [
       "<Figure size 432x288 with 2 Axes>"
      ]
     },
     "metadata": {
      "needs_background": "light"
     },
     "output_type": "display_data"
    }
   ],
   "source": [
    "#For k= 9:\n",
    "\n",
    "knn= KNeighborsClassifier(n_neighbors= 9, metric= \"minkowski\", p= 2)\n",
    "knn.fit(X_train, y_train) # training the model with k= 3\n",
    "\n",
    "# Prediction: using test data\n",
    "y_pred= knn.predict(X_test)\n",
    "# y_pred\n",
    "\n",
    "# Confusion Matrix\n",
    "from sklearn import metrics\n",
    "conf = metrics.confusion_matrix(y_test, y_pred)\n",
    "print(conf)\n",
    "\n",
    "sns.heatmap(conf, annot= True)"
   ]
  },
  {
   "cell_type": "code",
   "execution_count": 47,
   "metadata": {},
   "outputs": [
    {
     "data": {
      "text/plain": [
       "0.91"
      ]
     },
     "execution_count": 47,
     "metadata": {},
     "output_type": "execute_result"
    }
   ],
   "source": [
    "# Checking accuracy on Training set\n",
    "\n",
    "train_accuracy = knn.score(X_train, y_train)\n",
    "train_accuracy"
   ]
  },
  {
   "cell_type": "code",
   "execution_count": 48,
   "metadata": {},
   "outputs": [
    {
     "data": {
      "text/plain": [
       "0.91"
      ]
     },
     "execution_count": 48,
     "metadata": {},
     "output_type": "execute_result"
    }
   ],
   "source": [
    "# Checking accuracy on Test set\n",
    "\n",
    "test_accuracy = knn.score(X_test, y_test)\n",
    "test_accuracy"
   ]
  },
  {
   "cell_type": "markdown",
   "metadata": {},
   "source": [
    "91% accuracy which is quite good\n",
    "when k was = 5, train accuracy was= 90%"
   ]
  },
  {
   "cell_type": "code",
   "execution_count": null,
   "metadata": {},
   "outputs": [],
   "source": []
  }
 ],
 "metadata": {
  "kernelspec": {
   "display_name": "Python 3",
   "language": "python",
   "name": "python3"
  },
  "language_info": {
   "codemirror_mode": {
    "name": "ipython",
    "version": 3
   },
   "file_extension": ".py",
   "mimetype": "text/x-python",
   "name": "python",
   "nbconvert_exporter": "python",
   "pygments_lexer": "ipython3",
   "version": "3.8.3"
  },
  "toc": {
   "base_numbering": 1,
   "nav_menu": {},
   "number_sections": true,
   "sideBar": true,
   "skip_h1_title": false,
   "title_cell": "Table of Contents",
   "title_sidebar": "Contents",
   "toc_cell": true,
   "toc_position": {
    "height": "calc(100% - 180px)",
    "left": "10px",
    "top": "150px",
    "width": "166.2px"
   },
   "toc_section_display": true,
   "toc_window_display": true
  },
  "varInspector": {
   "cols": {
    "lenName": 16,
    "lenType": 16,
    "lenVar": 40
   },
   "kernels_config": {
    "python": {
     "delete_cmd_postfix": "",
     "delete_cmd_prefix": "del ",
     "library": "var_list.py",
     "varRefreshCmd": "print(var_dic_list())"
    },
    "r": {
     "delete_cmd_postfix": ") ",
     "delete_cmd_prefix": "rm(",
     "library": "var_list.r",
     "varRefreshCmd": "cat(var_dic_list()) "
    }
   },
   "types_to_exclude": [
    "module",
    "function",
    "builtin_function_or_method",
    "instance",
    "_Feature"
   ],
   "window_display": false
  }
 },
 "nbformat": 4,
 "nbformat_minor": 4
}
